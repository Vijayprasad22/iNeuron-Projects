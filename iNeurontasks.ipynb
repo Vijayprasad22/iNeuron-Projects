{
 "cells": [
  {
   "cell_type": "code",
   "execution_count": 3,
   "metadata": {},
   "outputs": [
    {
     "name": "stdout",
     "output_type": "stream",
     "text": [
      "Hello Python\n"
     ]
    }
   ],
   "source": [
    "#Task1(1)\n",
    "#Jupyter notebook launched First Program\n",
    "#Hello Python\n",
    "print('Hello Python')"
   ]
  },
  {
   "cell_type": "code",
   "execution_count": 4,
   "metadata": {},
   "outputs": [
    {
     "name": "stdout",
     "output_type": "stream",
     "text": [
      "[2002, 2009, 2016, 2023, 2037, 2044, 2051, 2058, 2072, 2079, 2086, 2093, 2107, 2114, 2121, 2128, 2142, 2149, 2156, 2163, 2177, 2184, 2191, 2198, 2212, 2219, 2226, 2233, 2247, 2254, 2261, 2268, 2282, 2289, 2296, 2303, 2317, 2324, 2331, 2338, 2352, 2359, 2366, 2373, 2387, 2394, 2401, 2408, 2422, 2429, 2436, 2443, 2457, 2464, 2471, 2478, 2492, 2499, 2506, 2513, 2527, 2534, 2541, 2548, 2562, 2569, 2576, 2583, 2597, 2604, 2611, 2618, 2632, 2639, 2646, 2653, 2667, 2674, 2681, 2688, 2702, 2709, 2716, 2723, 2737, 2744, 2751, 2758, 2772, 2779, 2786, 2793, 2807, 2814, 2821, 2828, 2842, 2849, 2856, 2863, 2877, 2884, 2891, 2898, 2912, 2919, 2926, 2933, 2947, 2954, 2961, 2968, 2982, 2989, 2996, 3003, 3017, 3024, 3031, 3038, 3052, 3059, 3066, 3073, 3087, 3094, 3101, 3108, 3122, 3129, 3136, 3143, 3157, 3164, 3171, 3178, 3192, 3199]\n"
     ]
    }
   ],
   "source": [
    "#Task1(2)\n",
    "final = []\n",
    "for m in range(2000,3201):\n",
    "    if (m%7 == 0) and (m%5!=0):\n",
    "        final.append(m)\n",
    "print(final)"
   ]
  },
  {
   "cell_type": "code",
   "execution_count": 6,
   "metadata": {},
   "outputs": [
    {
     "name": "stdout",
     "output_type": "stream",
     "text": [
      "vijay\n",
      "prasad\n",
      "dasarp yajiv\n"
     ]
    }
   ],
   "source": [
    "#Task1(3)\n",
    "fname = input()\n",
    "lname = input()\n",
    "Fullname = fname+ \" \" +lname\n",
    "Ffname = Fullname[::-1]\n",
    "print(Ffname)"
   ]
  },
  {
   "cell_type": "code",
   "execution_count": 8,
   "metadata": {},
   "outputs": [
    {
     "name": "stdout",
     "output_type": "stream",
     "text": [
      "Volume is:  904.7786842338603\n"
     ]
    }
   ],
   "source": [
    "#Task1(4)\n",
    "pi = 3.1415926535897931\n",
    "r= 6.0 # r = D/2 here 12/2= 6.0\n",
    "Volume= 4.0/3.0*pi* r**3\n",
    "print('Volume is: ',Volume)"
   ]
  },
  {
   "cell_type": "code",
   "execution_count": 16,
   "metadata": {},
   "outputs": [
    {
     "name": "stdout",
     "output_type": "stream",
     "text": [
      "12,56,87,99\n",
      "['12', '56', '87', '99']\n"
     ]
    }
   ],
   "source": [
    "#Task2(1)\n",
    "l = str(input())\n",
    "flist = l.split(',')\n",
    "print(flist)"
   ]
  },
  {
   "cell_type": "code",
   "execution_count": 24,
   "metadata": {},
   "outputs": [
    {
     "name": "stdout",
     "output_type": "stream",
     "text": [
      "\n",
      "* \n",
      "* * \n",
      "* * * \n",
      "* * * * \n",
      "* * * * * \n",
      "* * * * \n",
      "* * * \n",
      "* * \n",
      "* \n"
     ]
    }
   ],
   "source": [
    "#Task2(2)\n",
    "iden=5;\n",
    "for l in range(iden):\n",
    "    for j in range(l):\n",
    "        print ('* ', end=\"\")\n",
    "    print('')\n",
    "\n",
    "for l in range(iden,0,-1):\n",
    "    for j in range(l):\n",
    "        print('* ', end=\"\")\n",
    "    print('')"
   ]
  },
  {
   "cell_type": "code",
   "execution_count": 25,
   "metadata": {},
   "outputs": [
    {
     "name": "stdout",
     "output_type": "stream",
     "text": [
      "vijayprasad\n"
     ]
    },
    {
     "data": {
      "text/plain": [
       "'dasarpyajiv'"
      ]
     },
     "execution_count": 25,
     "metadata": {},
     "output_type": "execute_result"
    }
   ],
   "source": [
    "#Task2(3)\n",
    "word =input()\n",
    "rword = word[::-1]\n",
    "rword"
   ]
  },
  {
   "cell_type": "code",
   "execution_count": 39,
   "metadata": {},
   "outputs": [
    {
     "data": {
      "text/plain": [
       "['WE, THE PEOPLE OF INDIA,',\n",
       " 'having solemnly resolved to constitute India into a SOVEREIGN, ',\n",
       " 'SOCIALIST, SECULAR, DEMOCRATIC REPUBLIC ',\n",
       " 'and to secure to all']"
      ]
     },
     "execution_count": 39,
     "metadata": {},
     "output_type": "execute_result"
    }
   ],
   "source": [
    "#Task2(4)\n",
    "string = \"\"\"WE, THE PEOPLE OF INDIA,\n",
    "having solemnly resolved to constitute India into a SOVEREIGN, \n",
    "SOCIALIST, SECULAR, DEMOCRATIC REPUBLIC \n",
    "and to secure to all\"\"\"\n",
    "fstring = string.split('\\n')\n",
    "fstring=fstring[0].upper()+fstring[1].lower()+fstring[2].upper()\n",
    "fstring= string.split('\\n')\n",
    "fstring\n"
   ]
  },
  {
   "cell_type": "code",
   "execution_count": null,
   "metadata": {},
   "outputs": [],
   "source": []
  }
 ],
 "metadata": {
  "kernelspec": {
   "display_name": "Python 3",
   "language": "python",
   "name": "python3"
  },
  "language_info": {
   "codemirror_mode": {
    "name": "ipython",
    "version": 3
   },
   "file_extension": ".py",
   "mimetype": "text/x-python",
   "name": "python",
   "nbconvert_exporter": "python",
   "pygments_lexer": "ipython3",
   "version": "3.8.2"
  }
 },
 "nbformat": 4,
 "nbformat_minor": 4
}
